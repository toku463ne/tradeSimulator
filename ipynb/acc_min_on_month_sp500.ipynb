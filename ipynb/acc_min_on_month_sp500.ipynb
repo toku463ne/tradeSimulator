{
 "cells": [
  {
   "cell_type": "code",
   "execution_count": 7,
   "id": "bded0f04-0d79-4c47-b48c-0993f93cf06f",
   "metadata": {},
   "outputs": [
    {
     "data": {
      "text/html": [
       "<div>\n",
       "<style scoped>\n",
       "    .dataframe tbody tr th:only-of-type {\n",
       "        vertical-align: middle;\n",
       "    }\n",
       "\n",
       "    .dataframe tbody tr th {\n",
       "        vertical-align: top;\n",
       "    }\n",
       "\n",
       "    .dataframe thead th {\n",
       "        text-align: right;\n",
       "    }\n",
       "</style>\n",
       "<table border=\"1\" class=\"dataframe\">\n",
       "  <thead>\n",
       "    <tr style=\"text-align: right;\">\n",
       "      <th></th>\n",
       "      <th>asset</th>\n",
       "    </tr>\n",
       "  </thead>\n",
       "  <tbody>\n",
       "    <tr>\n",
       "      <th>0</th>\n",
       "      <td>851105.488023</td>\n",
       "    </tr>\n",
       "  </tbody>\n",
       "</table>\n",
       "</div>"
      ],
      "text/plain": [
       "           asset\n",
       "0  851105.488023"
      ]
     },
     "execution_count": 7,
     "metadata": {},
     "output_type": "execute_result"
    }
   ],
   "source": [
    "import __init__\n",
    "\n",
    "from db.mydf import MyDf\n",
    "db = MyDf()\n",
    "sql = \"\"\"select sum(min_c) * (select C FROM ohlcv_GSPC_D order by EP desc limit 1) as asset\n",
    "from\n",
    "(\n",
    "SELECT DATE_FORMAT(DT, '%%Y-%%m') AS Month, 10000/MIN(C) AS Min_C\n",
    "FROM ohlcv_GSPC_D\n",
    "WHERE DT >= '2019-01-01 00:00:00'\n",
    "AND DT <= '2024-01-01 00:00:00'\n",
    "GROUP BY 1\n",
    ") as a\"\"\"\n",
    "db.read_sql(sql)"
   ]
  },
  {
   "cell_type": "code",
   "execution_count": 9,
   "id": "297b6d70-0a8f-40c2-b554-7ae628c6e714",
   "metadata": {},
   "outputs": [
    {
     "data": {
      "text/html": [
       "<div>\n",
       "<style scoped>\n",
       "    .dataframe tbody tr th:only-of-type {\n",
       "        vertical-align: middle;\n",
       "    }\n",
       "\n",
       "    .dataframe tbody tr th {\n",
       "        vertical-align: top;\n",
       "    }\n",
       "\n",
       "    .dataframe thead th {\n",
       "        text-align: right;\n",
       "    }\n",
       "</style>\n",
       "<table border=\"1\" class=\"dataframe\">\n",
       "  <thead>\n",
       "    <tr style=\"text-align: right;\">\n",
       "      <th></th>\n",
       "      <th>asset</th>\n",
       "    </tr>\n",
       "  </thead>\n",
       "  <tbody>\n",
       "    <tr>\n",
       "      <th>0</th>\n",
       "      <td>792564.040239</td>\n",
       "    </tr>\n",
       "  </tbody>\n",
       "</table>\n",
       "</div>"
      ],
      "text/plain": [
       "           asset\n",
       "0  792564.040239"
      ]
     },
     "execution_count": 9,
     "metadata": {},
     "output_type": "execute_result"
    }
   ],
   "source": [
    "import __init__\n",
    "\n",
    "from db.mydf import MyDf\n",
    "db = MyDf()\n",
    "sql = \"\"\"select sum(Max_C) * (select C FROM ohlcv_GSPC_D order by EP desc limit 1) as asset\n",
    "from\n",
    "(\n",
    "SELECT DATE_FORMAT(DT, '%%Y-%%m') AS Month, 10000/MAX(C) AS Max_C\n",
    "FROM ohlcv_GSPC_D\n",
    "WHERE DT >= '2019-01-01 00:00:00'\n",
    "AND DT <= '2024-01-01 00:00:00'\n",
    "GROUP BY 1\n",
    ") as a\"\"\"\n",
    "db.read_sql(sql)"
   ]
  },
  {
   "cell_type": "code",
   "execution_count": null,
   "id": "9688ff0d-85e6-44eb-a39f-d8c96d19f2a3",
   "metadata": {},
   "outputs": [],
   "source": []
  },
  {
   "cell_type": "code",
   "execution_count": null,
   "id": "f8cd2d08-9d30-4420-ad96-11ba3978e9d9",
   "metadata": {},
   "outputs": [],
   "source": []
  }
 ],
 "metadata": {
  "kernelspec": {
   "display_name": "Python 3 (ipykernel)",
   "language": "python",
   "name": "python3"
  },
  "language_info": {
   "codemirror_mode": {
    "name": "ipython",
    "version": 3
   },
   "file_extension": ".py",
   "mimetype": "text/x-python",
   "name": "python",
   "nbconvert_exporter": "python",
   "pygments_lexer": "ipython3",
   "version": "3.10.12"
  }
 },
 "nbformat": 4,
 "nbformat_minor": 5
}
